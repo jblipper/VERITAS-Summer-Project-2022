{
 "cells": [
  {
   "cell_type": "code",
   "execution_count": 2,
   "id": "a537b88c",
   "metadata": {},
   "outputs": [],
   "source": [
    "import matplotlib.pyplot as plt\n",
    "import scipy.fft as spt  \n",
    "import numpy as np\n",
    "from tqdm import tqdm\n",
    "\n",
    "def invF(dt,A,xlimf='none',xlimt='none', plot='yes', output='no', absolute='yes',norm='no', positiveoutput='no'): #same as last cell but for inverse transform\n",
    "    n=np.size(A)\n",
    "    f=spt.fftfreq(np.size(A),d=dt)\n",
    "    t=np.arange(0,np.size(A)*dt/2,dt)\n",
    "    #print(f)\n",
    "    #print(t)\n",
    "    #print(A)\n",
    "    if absolute=='no':\n",
    "        if norm=='yes':\n",
    "            Y0=(spt.ifft(A))/np.size(f)\n",
    "        if norm=='no':\n",
    "            Y0=(spt.ifft(A))\n",
    "    if absolute=='yes':\n",
    "        if norm=='yes':    \n",
    "            Y0=abs(spt.ifft(A))/np.size(f)\n",
    "        if norm=='no':\n",
    "            Y0=abs(spt.ifft(A))\n",
    "    Y=[]\n",
    "    for i in range(len(Y0)//2):      #only plots the positive part of the time domain since negative part does not have physical meaning\n",
    "        Y.append(Y0[i])\n",
    "\n",
    "    if plot=='yes':\n",
    "        plt.subplot(1,2,1)\n",
    "        plt.plot(f,A,'.')\n",
    "        if xlimf!='none':\n",
    "            plt.xlim([-xlimf,xlimf])\n",
    "        plt.xlabel('Frequency(hz)')\n",
    "        plt.ylabel('Power')\n",
    "        plt.title('Frequency Domain')\n",
    "    \n",
    "        plt.subplot(1,2,2)\n",
    "        plt.plot(t,Y,'.')\n",
    "        if xlimt!='none':\n",
    "            plt.xlim([0,xlimt])\n",
    "        plt.xlabel('Time(s)')\n",
    "        plt.ylabel('Magnitude')\n",
    "        plt.title('Time Domain')\n",
    "    \n",
    "    if output=='yes':\n",
    "        if positiveoutput=='yes':\n",
    "            return Y\n",
    "        else:\n",
    "            return Y0              #negative part of time domain is necessary for further transformation\n",
    "\n",
    "        \n",
    "def gendata(T,dt,noise=2,plot=True,output=True):\n",
    "    n=4*int(T//dt)\n",
    "    F=spt.fftfreq(n+4,d=dt)\n",
    "    w=2*np.pi*F\n",
    "    S=(1/w)**noise\n",
    "    S[0]=S[1]\n",
    "    re=[]\n",
    "    im=[]\n",
    "    for i in range(len(F)):\n",
    "        if F[i]>=0:\n",
    "            r=np.random.normal(0,1,2)\n",
    "            re.append((0.5*S[i])**0.5*r[0])\n",
    "    for i in range(len(re)):\n",
    "        im.append(re[-i])\n",
    "    y=np.concatenate([re,im])\n",
    "    M=invF(dt,re,output='yes',absolute='no',positiveoutput='yes',plot='no')\n",
    "    t=np.arange(0,np.size(M)*dt,dt)\n",
    "    \n",
    "    if plot==True:\n",
    "        fig, (ax1, ax2) = plt.subplots(1, 2, constrained_layout=True, sharey=True)\n",
    "        ax1.plot(F,y,'.')\n",
    "        ax1.set_title('Linear')\n",
    "        ax1.set_xlabel('Frequency(hz)')\n",
    "        ax1.set_ylabel('sqrt Power')\n",
    "        ax2.loglog(F,y,'.')\n",
    "        ax2.set_xlabel('Frequency(hz)')\n",
    "        ax2.set_title('Log-log')\n",
    "        fig.suptitle('Sample Light Curve Frequency Space', fontsize=16)\n",
    "    \n",
    "        plt.figure()\n",
    "        plt.plot(t,M,'.')\n",
    "        plt.xlabel('Time(s)')\n",
    "        plt.ylabel('Magnitude')\n",
    "        plt.title('Sample Light Curve Time Space',size=16)\n",
    "\n",
    "    if output==True:\n",
    "        tr=[]\n",
    "        mr=[]\n",
    "        for i in range(len(t)):\n",
    "            tr.append(t[i])\n",
    "            mr.append(np.real(M[i]))\n",
    "        return tr,mr"
   ]
  },
  {
   "cell_type": "code",
   "execution_count": 10,
   "id": "9c363671",
   "metadata": {},
   "outputs": [
    {
     "name": "stderr",
     "output_type": "stream",
     "text": [
      "  0%|          | 0/100 [00:00<?, ?it/s]<ipython-input-2-2d5ed551530e>:55: RuntimeWarning: divide by zero encountered in true_divide\n",
      "  S=(1/w)**noise\n",
      "100%|██████████| 100/100 [20:01<00:00, 12.02s/it]\n"
     ]
    },
    {
     "name": "stdout",
     "output_type": "stream",
     "text": [
      "[0.6536100075153185, 0.6755236489691976, 0.5643801456617922, 0.5752417960637832, 0.8202151800294972, 0.42796609246704825, 0.8493344102072732, 0.616919337150077, 0.8239363800794104, 0.3764408126937836, 0.5902308039835509, 0.4635231351501302, 0.5926063687082394, 0.5283424623818113, 0.40122292451501296, 0.8562084726584801, 0.5229719628327973, 0.8873429096487687, 0.6090896659700238, 0.7845071050536065, 0.4750157214423165, 0.7510359059098062, 0.7578375736731418, 0.6577530906425111, 0.623459762704077, 0.593142371946969, 0.7930904396170002, 0.6373049298322282, 0.6599703375999475, 0.5530123413068074, 0.7040597098335803, 0.8036762795216047, 0.7396754284277478, 0.4267811070122478, 0.5186432857893377, 0.5784951100618588, 0.38120059900898, 0.40825581767881725, 0.8478244372714954, 0.5638463277810781, 0.6808355172509148, 0.6946045725196999, 0.6364527942654019, 0.8591422168015416, 0.7659744816472729, 0.7771937777864828, 0.8874530724257925, 0.7812431057814717, 0.39286434264288445, 0.7546393073714619, 0.6952149733122323, 0.6281933698032569, 0.5328329872485162, 0.9158067772083541, 0.7885749464848544, 0.8227181250215956, 0.7410516849765674, 0.6515701268229704, 0.7271356211886513, 0.825705676412587, 0.3357043320732403, 0.7569344011543607, 0.6647576547112486, 0.9250128728729614, 0.5622411947723082, 0.6223994104348154, 0.5518987933450668, 0.8215311972700697, 0.6653489073039656, 0.6429828373868954, 0.6950504791051649, 0.5018351408431253, 0.8111167409138093, 0.5863184385628842, 0.7999329614766363, 0.7860214319198626, 0.7351050022775517, 0.6112294733506303, 0.7088305298031544, 0.7318867758424842, 0.6394987107379595, 0.7746974935153118, 0.6996521552484144, 0.8021337239835121, 0.597383954619391, 0.6406265873083006, 0.46018001042235396, 0.47195502333108114, 0.9077598945351717, 0.373934686708717, 0.42091403948060835, 0.6381576539825824, 0.622869567844546, 0.9039422821235272, 0.5466772997340518, 0.5968398684242687, 0.6272017839738462, 0.7488089238158654, 0.6849544741586271, 0.8203148346746981]\n",
      "0.6614754321981675\n",
      "[0.65361001 0.67552365 0.56438015 0.5752418  0.82021518 0.42796609\n",
      " 0.84933441 0.61691934 0.82393638 0.37644081 0.5902308  0.46352314\n",
      " 0.59260637 0.52834246 0.40122292 0.85620847 0.52297196 0.88734291\n",
      " 0.60908967 0.78450711 0.47501572 0.75103591 0.75783757 0.65775309\n",
      " 0.62345976 0.59314237 0.79309044 0.63730493 0.65997034 0.55301234\n",
      " 0.70405971 0.80367628 0.73967543 0.42678111 0.51864329 0.57849511\n",
      " 0.3812006  0.40825582 0.84782444 0.56384633 0.68083552 0.69460457\n",
      " 0.63645279 0.85914222 0.76597448 0.77719378 0.88745307 0.78124311\n",
      " 0.39286434 0.75463931 0.69521497 0.62819337 0.53283299 0.91580678\n",
      " 0.78857495 0.82271813 0.74105168 0.65157013 0.72713562 0.82570568\n",
      " 0.33570433 0.7569344  0.66475765 0.92501287 0.56224119 0.62239941\n",
      " 0.55189879 0.8215312  0.66534891 0.64298284 0.69505048 0.50183514\n",
      " 0.81111674 0.58631844 0.79993296 0.78602143 0.735105   0.61122947\n",
      " 0.70883053 0.73188678 0.63949871 0.77469749 0.69965216 0.80213372\n",
      " 0.59738395 0.64062659 0.46018001 0.47195502 0.90775989 0.37393469\n",
      " 0.42091404 0.63815765 0.62286957 0.90394228 0.5466773  0.59683987\n",
      " 0.62720178 0.74880892 0.68495447 0.82031483]\n"
     ]
    },
    {
     "data": {
      "text/plain": [
       "0.6614754321981675"
      ]
     },
     "execution_count": 10,
     "metadata": {},
     "output_type": "execute_result"
    },
    {
     "data": {
      "image/png": "[encoded data removed]",
      "text/plain": [
       "<Figure size 432x288 with 1 Axes>"
      ]
     },
     "metadata": {
      "needs_background": "light"
     },
     "output_type": "display_data"
    }
   ],
   "source": [
    "def getcorrelation(datafile,N,a,b,dt,strength=1,plot1=False,plot2=False,showrs=False,printoutput=False,histogram=False):\n",
    "    data=np.genfromtxt(datafile, delimiter=',')\n",
    "    tdata=[]\n",
    "    mdata=[]\n",
    "    for i in data:\n",
    "        tdata.append(i[0])\n",
    "        mdata.append(abs(i[1]))\n",
    "    T=b-a\n",
    "    ttdata0=[]\n",
    "    mmdata=[]\n",
    "    for i in range(len(tdata)):\n",
    "        if tdata[i]>a and tdata[i]<=b:\n",
    "            ttdata0.append(tdata[i])\n",
    "            mmdata.append(mdata[i])\n",
    "    ttdata=[]\n",
    "    for i in range(len(ttdata0)):\n",
    "        ttdata.append(ttdata0[i]-ttdata0[0])\n",
    "    curves=[]\n",
    "    for i in tqdm(range(N)):\n",
    "        if plot1==True:\n",
    "            plt.figure()\n",
    "            curve=gendata(T,dt,plot=True)\n",
    "        else:\n",
    "            curve=gendata(T,dt,plot=False)\n",
    "        curves.append(curve[1])  \n",
    "    injecteds=[]\n",
    "    for i in curves:\n",
    "        yinjected=[]\n",
    "        for j in range(len(mmdata)):\n",
    "            yinjected.append(abs(mmdata[j]+strength*i[j]))\n",
    "        if plot2==True:\n",
    "            plt.figure()\n",
    "            plt.plot(ttdata,yinjected,'.')\n",
    "            plt.title('Trimmed ECM Data with Injected Sample Light Curve')\n",
    "            plt.xlabel('Time(s)')\n",
    "            plt.ylabel('Average Absolute Magnitude(V)')  \n",
    "        injecteds.append(yinjected)\n",
    "    rs=[]\n",
    "    for i in range(len(injecteds)):\n",
    "        corr_matrix = np.corrcoef(curves[i], injecteds[i])\n",
    "        corr = corr_matrix[0,1]\n",
    "        rs.append(corr)\n",
    "    if showrs==True:\n",
    "        print(rs)\n",
    "    rmean=np.sum(rs)/N\n",
    "    if printoutput==True:\n",
    "        print(rmean)\n",
    "    if histogram==True:\n",
    "        plt.figure()\n",
    "        rs2=np.array(rs)\n",
    "        print(rs2)\n",
    "        t = plt.hist(rs2, 10,)\n",
    "    \n",
    "    \n",
    "    \n",
    "    return rmean\n",
    "\n",
    "    \n",
    "    \n",
    "    \n",
    "getcorrelation('20220104-FRB180814.J422+73-T1.csv',100,250,1250,1/1200,strength=2,plot1=False,plot2=False,showrs=True,printoutput=True,histogram=True)"
   ]
  },
  {
   "cell_type": "code",
   "execution_count": 5,
   "id": "302a56e3",
   "metadata": {},
   "outputs": [
    {
     "name": "stderr",
     "output_type": "stream",
     "text": [
      "  0%|          | 0/100 [00:00<?, ?it/s]<ipython-input-4-2d5ed551530e>:55: RuntimeWarning: divide by zero encountered in true_divide\n",
      "  S=(1/w)**noise\n",
      "  1%|          | 1/100 [01:20<2:12:40, 80.41s/it]\n"
     ]
    },
    {
     "ename": "KeyboardInterrupt",
     "evalue": "",
     "output_type": "error",
     "traceback": [
      "\u001b[0;31m---------------------------------------------------------------------------\u001b[0m",
      "\u001b[0;31mKeyboardInterrupt\u001b[0m                         Traceback (most recent call last)",
      "\u001b[0;32m<ipython-input-5-d4da2f6c6420>\u001b[0m in \u001b[0;36m<module>\u001b[0;34m\u001b[0m\n\u001b[1;32m      3\u001b[0m \u001b[0mr\u001b[0m\u001b[0;34m=\u001b[0m\u001b[0;34m[\u001b[0m\u001b[0;34m]\u001b[0m\u001b[0;34m\u001b[0m\u001b[0;34m\u001b[0m\u001b[0m\n\u001b[1;32m      4\u001b[0m \u001b[0;32mfor\u001b[0m \u001b[0mi\u001b[0m \u001b[0;32min\u001b[0m \u001b[0mtqdm\u001b[0m\u001b[0;34m(\u001b[0m\u001b[0mstrengths\u001b[0m\u001b[0;34m)\u001b[0m\u001b[0;34m:\u001b[0m\u001b[0;34m\u001b[0m\u001b[0;34m\u001b[0m\u001b[0m\n\u001b[0;32m----> 5\u001b[0;31m     \u001b[0mr\u001b[0m\u001b[0;34m.\u001b[0m\u001b[0mappend\u001b[0m\u001b[0;34m(\u001b[0m\u001b[0mgetcorrelation\u001b[0m\u001b[0;34m(\u001b[0m\u001b[0;34m'20220104-FRB180814.J422+73-T1.csv'\u001b[0m\u001b[0;34m,\u001b[0m\u001b[0;36m4\u001b[0m\u001b[0;34m,\u001b[0m\u001b[0;36m250\u001b[0m\u001b[0;34m,\u001b[0m\u001b[0;36m1250\u001b[0m\u001b[0;34m,\u001b[0m\u001b[0;36m1\u001b[0m\u001b[0;34m/\u001b[0m\u001b[0;36m1200\u001b[0m\u001b[0;34m,\u001b[0m\u001b[0mstrength\u001b[0m\u001b[0;34m=\u001b[0m\u001b[0mi\u001b[0m\u001b[0;34m)\u001b[0m\u001b[0;34m)\u001b[0m\u001b[0;34m\u001b[0m\u001b[0;34m\u001b[0m\u001b[0m\n\u001b[0m\u001b[1;32m      6\u001b[0m \u001b[0mplt\u001b[0m\u001b[0;34m.\u001b[0m\u001b[0mplot\u001b[0m\u001b[0;34m(\u001b[0m\u001b[0mstrengths\u001b[0m\u001b[0;34m,\u001b[0m\u001b[0mr\u001b[0m\u001b[0;34m,\u001b[0m\u001b[0;34m'.'\u001b[0m\u001b[0;34m)\u001b[0m\u001b[0;34m\u001b[0m\u001b[0;34m\u001b[0m\u001b[0m\n\u001b[1;32m      7\u001b[0m \u001b[0mplt\u001b[0m\u001b[0;34m.\u001b[0m\u001b[0mtitle\u001b[0m\u001b[0;34m(\u001b[0m\u001b[0;34m'Strength of Correlation at Different Strengths of Injected Signal'\u001b[0m\u001b[0;34m)\u001b[0m\u001b[0;34m\u001b[0m\u001b[0;34m\u001b[0m\u001b[0m\n",
      "\u001b[0;32m<ipython-input-2-652861673de2>\u001b[0m in \u001b[0;36mgetcorrelation\u001b[0;34m(datafile, N, a, b, dt, strength, plot1, plot2, showrs, printoutput)\u001b[0m\n\u001b[1;32m     22\u001b[0m             \u001b[0mcurve\u001b[0m\u001b[0;34m=\u001b[0m\u001b[0mgendata\u001b[0m\u001b[0;34m(\u001b[0m\u001b[0mT\u001b[0m\u001b[0;34m,\u001b[0m\u001b[0mdt\u001b[0m\u001b[0;34m,\u001b[0m\u001b[0mplot\u001b[0m\u001b[0;34m=\u001b[0m\u001b[0;32mTrue\u001b[0m\u001b[0;34m)\u001b[0m\u001b[0;34m\u001b[0m\u001b[0;34m\u001b[0m\u001b[0m\n\u001b[1;32m     23\u001b[0m         \u001b[0;32melse\u001b[0m\u001b[0;34m:\u001b[0m\u001b[0;34m\u001b[0m\u001b[0;34m\u001b[0m\u001b[0m\n\u001b[0;32m---> 24\u001b[0;31m             \u001b[0mcurve\u001b[0m\u001b[0;34m=\u001b[0m\u001b[0mgendata\u001b[0m\u001b[0;34m(\u001b[0m\u001b[0mT\u001b[0m\u001b[0;34m,\u001b[0m\u001b[0mdt\u001b[0m\u001b[0;34m,\u001b[0m\u001b[0mplot\u001b[0m\u001b[0;34m=\u001b[0m\u001b[0;32mFalse\u001b[0m\u001b[0;34m)\u001b[0m\u001b[0;34m\u001b[0m\u001b[0;34m\u001b[0m\u001b[0m\n\u001b[0m\u001b[1;32m     25\u001b[0m         \u001b[0mcurves\u001b[0m\u001b[0;34m.\u001b[0m\u001b[0mappend\u001b[0m\u001b[0;34m(\u001b[0m\u001b[0mcurve\u001b[0m\u001b[0;34m[\u001b[0m\u001b[0;36m1\u001b[0m\u001b[0;34m]\u001b[0m\u001b[0;34m)\u001b[0m\u001b[0;34m\u001b[0m\u001b[0;34m\u001b[0m\u001b[0m\n\u001b[1;32m     26\u001b[0m     \u001b[0minjecteds\u001b[0m\u001b[0;34m=\u001b[0m\u001b[0;34m[\u001b[0m\u001b[0;34m]\u001b[0m\u001b[0;34m\u001b[0m\u001b[0;34m\u001b[0m\u001b[0m\n",
      "\u001b[0;32m<ipython-input-4-2d5ed551530e>\u001b[0m in \u001b[0;36mgendata\u001b[0;34m(T, dt, noise, plot, output)\u001b[0m\n\u001b[1;32m     60\u001b[0m         \u001b[0;32mif\u001b[0m \u001b[0mF\u001b[0m\u001b[0;34m[\u001b[0m\u001b[0mi\u001b[0m\u001b[0;34m]\u001b[0m\u001b[0;34m>=\u001b[0m\u001b[0;36m0\u001b[0m\u001b[0;34m:\u001b[0m\u001b[0;34m\u001b[0m\u001b[0;34m\u001b[0m\u001b[0m\n\u001b[1;32m     61\u001b[0m             \u001b[0mr\u001b[0m\u001b[0;34m=\u001b[0m\u001b[0mnp\u001b[0m\u001b[0;34m.\u001b[0m\u001b[0mrandom\u001b[0m\u001b[0;34m.\u001b[0m\u001b[0mnormal\u001b[0m\u001b[0;34m(\u001b[0m\u001b[0;36m0\u001b[0m\u001b[0;34m,\u001b[0m\u001b[0;36m1\u001b[0m\u001b[0;34m,\u001b[0m\u001b[0;36m2\u001b[0m\u001b[0;34m)\u001b[0m\u001b[0;34m\u001b[0m\u001b[0;34m\u001b[0m\u001b[0m\n\u001b[0;32m---> 62\u001b[0;31m             \u001b[0mre\u001b[0m\u001b[0;34m.\u001b[0m\u001b[0mappend\u001b[0m\u001b[0;34m(\u001b[0m\u001b[0;34m(\u001b[0m\u001b[0;36m0.5\u001b[0m\u001b[0;34m*\u001b[0m\u001b[0mS\u001b[0m\u001b[0;34m[\u001b[0m\u001b[0mi\u001b[0m\u001b[0;34m]\u001b[0m\u001b[0;34m)\u001b[0m\u001b[0;34m**\u001b[0m\u001b[0;36m0.5\u001b[0m\u001b[0;34m*\u001b[0m\u001b[0mr\u001b[0m\u001b[0;34m[\u001b[0m\u001b[0;36m0\u001b[0m\u001b[0;34m]\u001b[0m\u001b[0;34m)\u001b[0m\u001b[0;34m\u001b[0m\u001b[0;34m\u001b[0m\u001b[0m\n\u001b[0m\u001b[1;32m     63\u001b[0m     \u001b[0;32mfor\u001b[0m \u001b[0mi\u001b[0m \u001b[0;32min\u001b[0m \u001b[0mrange\u001b[0m\u001b[0;34m(\u001b[0m\u001b[0mlen\u001b[0m\u001b[0;34m(\u001b[0m\u001b[0mre\u001b[0m\u001b[0;34m)\u001b[0m\u001b[0;34m)\u001b[0m\u001b[0;34m:\u001b[0m\u001b[0;34m\u001b[0m\u001b[0;34m\u001b[0m\u001b[0m\n\u001b[1;32m     64\u001b[0m         \u001b[0mim\u001b[0m\u001b[0;34m.\u001b[0m\u001b[0mappend\u001b[0m\u001b[0;34m(\u001b[0m\u001b[0mre\u001b[0m\u001b[0;34m[\u001b[0m\u001b[0;34m-\u001b[0m\u001b[0mi\u001b[0m\u001b[0;34m]\u001b[0m\u001b[0;34m)\u001b[0m\u001b[0;34m\u001b[0m\u001b[0;34m\u001b[0m\u001b[0m\n",
      "\u001b[0;31mKeyboardInterrupt\u001b[0m: "
     ]
    }
   ],
   "source": [
    "x=np.linspace(0,20,100)\n",
    "strengths=list(x)\n",
    "r=[]\n",
    "for i in tqdm(strengths):\n",
    "    r.append(getcorrelation('20220104-FRB180814.J422+73-T1.csv',4,250,1250,1/1200,strength=i))\n",
    "plt.plot(strengths,r,'.')\n",
    "plt.title('Strength of Correlation at Different Strengths of Injected Signal')\n",
    "plt.xlabel('Relative Strength of Injected Signal')\n",
    "plt.ylabel('Average Correlation Coefficient (4 Trials)')  "
   ]
  },
  {
   "cell_type": "code",
   "execution_count": null,
   "id": "caae33b2",
   "metadata": {},
   "outputs": [],
   "source": []
  }
 ],
 "metadata": {
  "kernelspec": {
   "display_name": "Python 3",
   "language": "python",
   "name": "python3"
  },
  "language_info": {
   "codemirror_mode": {
    "name": "ipython",
    "version": 3
   },
   "file_extension": ".py",
   "mimetype": "text/x-python",
   "name": "python",
   "nbconvert_exporter": "python",
   "pygments_lexer": "ipython3",
   "version": "3.8.8"
  }
 },
 "nbformat": 4,
 "nbformat_minor": 5
}
